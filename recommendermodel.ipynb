{
 "cells": [
  {
   "cell_type": "code",
   "execution_count": null,
   "id": "b517a5d4",
   "metadata": {},
   "outputs": [],
   "source": [
    "import pandas as pd\n",
    "import numpy as np\n",
    "import ast #used for literal_eval method in preprocessing\n",
    "from sklearn.feature_extraction.text import CountVectorizer #For extracting tags and filtering out stop words\n",
    "import nltk #For stemming and removing pseudo duplicate words"
   ]
  },
  {
   "cell_type": "code",
   "execution_count": null,
   "id": "859f19b5",
   "metadata": {},
   "outputs": [],
   "source": [
    "songs = pd.read_csv(r'C:\\Users\\Aravind Kumar\\Documents\\Programming Projects\\KaggleDatasetMusicMLRec\\dataset.csv')"
   ]
  },
  {
   "cell_type": "code",
   "execution_count": null,
   "id": "d4ee90ea",
   "metadata": {},
   "outputs": [],
   "source": [
    "songs = songs[['index','track_name','artists','album_name','duration','danceability','energy','key','loudness','speechiness','acousticness','liveness','valence','tempo','track_genre']]"
   ]
  },
  {
   "cell_type": "code",
   "execution_count": null,
   "id": "a5dfe85d",
   "metadata": {},
   "outputs": [],
   "source": [
    "songs.isnull().sum()\n",
    "songs.dropna(inplace=True)"
   ]
  },
  {
   "cell_type": "code",
   "execution_count": null,
   "id": "e54db765",
   "metadata": {},
   "outputs": [],
   "source": [
    "songs['duration'] = songs['duration'].apply(lambda x:round(x/1000))"
   ]
  },
  {
   "cell_type": "code",
   "execution_count": 28,
   "id": "d83f92ef",
   "metadata": {},
   "outputs": [
    {
     "data": {
      "text/html": [
       "<div>\n",
       "<style scoped>\n",
       "    .dataframe tbody tr th:only-of-type {\n",
       "        vertical-align: middle;\n",
       "    }\n",
       "\n",
       "    .dataframe tbody tr th {\n",
       "        vertical-align: top;\n",
       "    }\n",
       "\n",
       "    .dataframe thead th {\n",
       "        text-align: right;\n",
       "    }\n",
       "</style>\n",
       "<table border=\"1\" class=\"dataframe\">\n",
       "  <thead>\n",
       "    <tr style=\"text-align: right;\">\n",
       "      <th></th>\n",
       "      <th>index</th>\n",
       "      <th>track_name</th>\n",
       "      <th>artists</th>\n",
       "      <th>album_name</th>\n",
       "      <th>duration</th>\n",
       "      <th>danceability</th>\n",
       "      <th>energy</th>\n",
       "      <th>key</th>\n",
       "      <th>loudness</th>\n",
       "      <th>speechiness</th>\n",
       "      <th>acousticness</th>\n",
       "      <th>liveness</th>\n",
       "      <th>valence</th>\n",
       "      <th>tempo</th>\n",
       "      <th>track_genre</th>\n",
       "    </tr>\n",
       "  </thead>\n",
       "  <tbody>\n",
       "    <tr>\n",
       "      <th>0</th>\n",
       "      <td>0</td>\n",
       "      <td>comedy</td>\n",
       "      <td>gen hoshino</td>\n",
       "      <td>comedy</td>\n",
       "      <td>231</td>\n",
       "      <td>0.676</td>\n",
       "      <td>0.4610</td>\n",
       "      <td>1</td>\n",
       "      <td>-6.746</td>\n",
       "      <td>0.1430</td>\n",
       "      <td>0.0322</td>\n",
       "      <td>0.3580</td>\n",
       "      <td>0.715</td>\n",
       "      <td>87.917</td>\n",
       "      <td>acoustic</td>\n",
       "    </tr>\n",
       "    <tr>\n",
       "      <th>1</th>\n",
       "      <td>1</td>\n",
       "      <td>ghost - acoustic</td>\n",
       "      <td>ben woodward</td>\n",
       "      <td>ghost (acoustic)</td>\n",
       "      <td>150</td>\n",
       "      <td>0.420</td>\n",
       "      <td>0.1660</td>\n",
       "      <td>1</td>\n",
       "      <td>-17.235</td>\n",
       "      <td>0.0763</td>\n",
       "      <td>0.9240</td>\n",
       "      <td>0.1010</td>\n",
       "      <td>0.267</td>\n",
       "      <td>77.489</td>\n",
       "      <td>acoustic</td>\n",
       "    </tr>\n",
       "    <tr>\n",
       "      <th>2</th>\n",
       "      <td>2</td>\n",
       "      <td>to begin again</td>\n",
       "      <td>ingrid michaelson;zayn</td>\n",
       "      <td>to begin again</td>\n",
       "      <td>211</td>\n",
       "      <td>0.438</td>\n",
       "      <td>0.3590</td>\n",
       "      <td>0</td>\n",
       "      <td>-9.734</td>\n",
       "      <td>0.0557</td>\n",
       "      <td>0.2100</td>\n",
       "      <td>0.1170</td>\n",
       "      <td>0.120</td>\n",
       "      <td>76.332</td>\n",
       "      <td>acoustic</td>\n",
       "    </tr>\n",
       "    <tr>\n",
       "      <th>3</th>\n",
       "      <td>3</td>\n",
       "      <td>can't help falling in love</td>\n",
       "      <td>kina grannis</td>\n",
       "      <td>crazy rich asians (original motion picture sou...</td>\n",
       "      <td>202</td>\n",
       "      <td>0.266</td>\n",
       "      <td>0.0596</td>\n",
       "      <td>0</td>\n",
       "      <td>-18.515</td>\n",
       "      <td>0.0363</td>\n",
       "      <td>0.9050</td>\n",
       "      <td>0.1320</td>\n",
       "      <td>0.143</td>\n",
       "      <td>181.740</td>\n",
       "      <td>acoustic</td>\n",
       "    </tr>\n",
       "    <tr>\n",
       "      <th>4</th>\n",
       "      <td>4</td>\n",
       "      <td>hold on</td>\n",
       "      <td>chord overstreet</td>\n",
       "      <td>hold on</td>\n",
       "      <td>199</td>\n",
       "      <td>0.618</td>\n",
       "      <td>0.4430</td>\n",
       "      <td>2</td>\n",
       "      <td>-9.681</td>\n",
       "      <td>0.0526</td>\n",
       "      <td>0.4690</td>\n",
       "      <td>0.0829</td>\n",
       "      <td>0.167</td>\n",
       "      <td>119.949</td>\n",
       "      <td>acoustic</td>\n",
       "    </tr>\n",
       "  </tbody>\n",
       "</table>\n",
       "</div>"
      ],
      "text/plain": [
       "   index                  track_name                 artists  \\\n",
       "0      0                      comedy             gen hoshino   \n",
       "1      1            ghost - acoustic            ben woodward   \n",
       "2      2              to begin again  ingrid michaelson;zayn   \n",
       "3      3  can't help falling in love            kina grannis   \n",
       "4      4                     hold on        chord overstreet   \n",
       "\n",
       "                                          album_name  duration  danceability  \\\n",
       "0                                             comedy       231         0.676   \n",
       "1                                   ghost (acoustic)       150         0.420   \n",
       "2                                     to begin again       211         0.438   \n",
       "3  crazy rich asians (original motion picture sou...       202         0.266   \n",
       "4                                            hold on       199         0.618   \n",
       "\n",
       "   energy  key  loudness  speechiness  acousticness  liveness  valence  \\\n",
       "0  0.4610    1    -6.746       0.1430        0.0322    0.3580    0.715   \n",
       "1  0.1660    1   -17.235       0.0763        0.9240    0.1010    0.267   \n",
       "2  0.3590    0    -9.734       0.0557        0.2100    0.1170    0.120   \n",
       "3  0.0596    0   -18.515       0.0363        0.9050    0.1320    0.143   \n",
       "4  0.4430    2    -9.681       0.0526        0.4690    0.0829    0.167   \n",
       "\n",
       "     tempo track_genre  \n",
       "0   87.917    acoustic  \n",
       "1   77.489    acoustic  \n",
       "2   76.332    acoustic  \n",
       "3  181.740    acoustic  \n",
       "4  119.949    acoustic  "
      ]
     },
     "execution_count": 28,
     "metadata": {},
     "output_type": "execute_result"
    }
   ],
   "source": [
    "songs.head()"
   ]
  },
  {
   "cell_type": "code",
   "execution_count": null,
   "id": "c2e27dd9",
   "metadata": {},
   "outputs": [],
   "source": [
    "songs['track_name']=songs['track_name'].apply(lambda x:x.lower())\n",
    "songs['artists']=songs['artists'].apply(lambda x:x.lower())\n",
    "songs['album_name']=songs['album_name'].apply(lambda x:x.lower())"
   ]
  },
  {
   "cell_type": "code",
   "execution_count": null,
   "id": "86f68bc6",
   "metadata": {},
   "outputs": [],
   "source": [
    "songs['artists']=songs['artists'].apply(lambda x: ';'.join([artist.strip() for artist in x.split(';')]))"
   ]
  },
  {
   "cell_type": "code",
   "execution_count": null,
   "id": "17d723b7",
   "metadata": {},
   "outputs": [],
   "source": [
    "from sklearn.feature_extraction.text import HashingVectorizer\n",
    "hashing = HashingVectorizer(\n",
    "    tokenizer=lambda x:x.split(';'),\n",
    "    n_features=4096,\n",
    "    binary=True,\n",
    "    alternate_sign=False,\n",
    "    norm=None\n",
    ")\n",
    "\n",
    "artist_features = hashing.fit_transform(songs['artists'])"
   ]
  },
  {
   "cell_type": "code",
   "execution_count": null,
   "id": "d8fc84ff",
   "metadata": {},
   "outputs": [],
   "source": [
    "import re\n",
    "\n",
    "# Remove special chars but keep essential info (feat., remix etc.)\n",
    "songs['track_name']=songs['track_name'].apply(\n",
    "    lambda x: re.sub(r'[^\\w\\s\\-]', '', x.lower())  # Keep hyphens and words\n",
    "    .replace('-', ' ')  # Replace hyphens with spaces (optional)\n",
    "    .strip()\n",
    ")\n"
   ]
  },
  {
   "cell_type": "code",
   "execution_count": 33,
   "id": "14fe3180",
   "metadata": {},
   "outputs": [],
   "source": [
    "# Clean album names in one line\n",
    "songs['album_name']=songs['album_name'].apply(\n",
    "    lambda x: ' '.join(\n",
    "        ''.join(\n",
    "            c if c.isalnum() else ' ' \n",
    "            for c in str(x).lower()\n",
    "        ).split()  # Removes extra spaces\n",
    "    )\n",
    ")"
   ]
  },
  {
   "cell_type": "code",
   "execution_count": null,
   "id": "33239869",
   "metadata": {},
   "outputs": [],
   "source": []
  }
 ],
 "metadata": {
  "kernelspec": {
   "display_name": "Python 3",
   "language": "python",
   "name": "python3"
  },
  "language_info": {
   "codemirror_mode": {
    "name": "ipython",
    "version": 3
   },
   "file_extension": ".py",
   "mimetype": "text/x-python",
   "name": "python",
   "nbconvert_exporter": "python",
   "pygments_lexer": "ipython3",
   "version": "3.12.5"
  }
 },
 "nbformat": 4,
 "nbformat_minor": 5
}
